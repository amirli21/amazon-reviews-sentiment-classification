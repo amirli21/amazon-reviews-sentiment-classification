{
 "cells": [
  {
   "cell_type": "code",
   "execution_count": 1,
   "id": "0bcd24f9-ed7c-4ca1-8187-b109aac1df9c",
   "metadata": {},
   "outputs": [],
   "source": [
    "import pandas as pd\n",
    "import matplotlib.pyplot as plt\n",
    "from wordcloud import WordCloud\n",
    "from nltk.corpus import stopwords\n",
    "from textblob import Word, TextBlob\n",
    "from warnings import filterwarnings\n",
    "\n",
    "filterwarnings('ignore')\n",
    "pd.set_option('display.max_columns', 1_000)\n",
    "pd.set_option('display.float_format', lambda x: '%.2f' %x)\n",
    "pd.set_option('display.width', 500)"
   ]
  },
  {
   "cell_type": "code",
   "execution_count": 2,
   "id": "be8f0311-bb3e-4339-ab8a-d7b07a288641",
   "metadata": {},
   "outputs": [
    {
     "data": {
      "text/html": [
       "<div>\n",
       "<style scoped>\n",
       "    .dataframe tbody tr th:only-of-type {\n",
       "        vertical-align: middle;\n",
       "    }\n",
       "\n",
       "    .dataframe tbody tr th {\n",
       "        vertical-align: top;\n",
       "    }\n",
       "\n",
       "    .dataframe thead th {\n",
       "        text-align: right;\n",
       "    }\n",
       "</style>\n",
       "<table border=\"1\" class=\"dataframe\">\n",
       "  <thead>\n",
       "    <tr style=\"text-align: right;\">\n",
       "      <th></th>\n",
       "      <th>text</th>\n",
       "    </tr>\n",
       "  </thead>\n",
       "  <tbody>\n",
       "    <tr>\n",
       "      <th>1</th>\n",
       "      <td>Anovo\\n\\nAnovo (formerly A Novo) is a computer...</td>\n",
       "    </tr>\n",
       "    <tr>\n",
       "      <th>2</th>\n",
       "      <td>Battery indicator\\n\\nA battery indicator (also...</td>\n",
       "    </tr>\n",
       "    <tr>\n",
       "      <th>3</th>\n",
       "      <td>Bob Pease\\n\\nRobert Allen Pease (August 22, 19...</td>\n",
       "    </tr>\n",
       "    <tr>\n",
       "      <th>4</th>\n",
       "      <td>CAVNET\\n\\nCAVNET was a secure military forum w...</td>\n",
       "    </tr>\n",
       "    <tr>\n",
       "      <th>5</th>\n",
       "      <td>CLidar\\n\\nThe CLidar is a scientific instrumen...</td>\n",
       "    </tr>\n",
       "  </tbody>\n",
       "</table>\n",
       "</div>"
      ],
      "text/plain": [
       "                                                text\n",
       "1  Anovo\\n\\nAnovo (formerly A Novo) is a computer...\n",
       "2  Battery indicator\\n\\nA battery indicator (also...\n",
       "3  Bob Pease\\n\\nRobert Allen Pease (August 22, 19...\n",
       "4  CAVNET\\n\\nCAVNET was a secure military forum w...\n",
       "5  CLidar\\n\\nThe CLidar is a scientific instrumen..."
      ]
     },
     "execution_count": 2,
     "metadata": {},
     "output_type": "execute_result"
    }
   ],
   "source": [
    "df = pd.read_csv('wiki_data.csv', index_col=0)\n",
    "df.head()"
   ]
  },
  {
   "cell_type": "code",
   "execution_count": 3,
   "id": "98701fd2-9407-42b8-a1e4-cd7614fc83ca",
   "metadata": {},
   "outputs": [
    {
     "data": {
      "text/html": [
       "<div>\n",
       "<style scoped>\n",
       "    .dataframe tbody tr th:only-of-type {\n",
       "        vertical-align: middle;\n",
       "    }\n",
       "\n",
       "    .dataframe tbody tr th {\n",
       "        vertical-align: top;\n",
       "    }\n",
       "\n",
       "    .dataframe thead th {\n",
       "        text-align: right;\n",
       "    }\n",
       "</style>\n",
       "<table border=\"1\" class=\"dataframe\">\n",
       "  <thead>\n",
       "    <tr style=\"text-align: right;\">\n",
       "      <th></th>\n",
       "      <th>text</th>\n",
       "    </tr>\n",
       "  </thead>\n",
       "  <tbody>\n",
       "    <tr>\n",
       "      <th>1</th>\n",
       "      <td>Anovo\\n\\nAnovo (formerly A Novo) is a computer...</td>\n",
       "    </tr>\n",
       "    <tr>\n",
       "      <th>2</th>\n",
       "      <td>Battery indicator\\n\\nA battery indicator (also...</td>\n",
       "    </tr>\n",
       "    <tr>\n",
       "      <th>3</th>\n",
       "      <td>Bob Pease\\n\\nRobert Allen Pease (August 22, 19...</td>\n",
       "    </tr>\n",
       "    <tr>\n",
       "      <th>4</th>\n",
       "      <td>CAVNET\\n\\nCAVNET was a secure military forum w...</td>\n",
       "    </tr>\n",
       "    <tr>\n",
       "      <th>5</th>\n",
       "      <td>CLidar\\n\\nThe CLidar is a scientific instrumen...</td>\n",
       "    </tr>\n",
       "  </tbody>\n",
       "</table>\n",
       "</div>"
      ],
      "text/plain": [
       "                                                text\n",
       "1  Anovo\\n\\nAnovo (formerly A Novo) is a computer...\n",
       "2  Battery indicator\\n\\nA battery indicator (also...\n",
       "3  Bob Pease\\n\\nRobert Allen Pease (August 22, 19...\n",
       "4  CAVNET\\n\\nCAVNET was a secure military forum w...\n",
       "5  CLidar\\n\\nThe CLidar is a scientific instrumen..."
      ]
     },
     "execution_count": 3,
     "metadata": {},
     "output_type": "execute_result"
    }
   ],
   "source": [
    "df = df[:2000]\n",
    "df.head()"
   ]
  },
  {
   "cell_type": "code",
   "execution_count": 4,
   "id": "ec21c062-ffca-4093-809b-ea5aa0c71042",
   "metadata": {},
   "outputs": [
    {
     "data": {
      "text/plain": [
       "(2000, 1)"
      ]
     },
     "execution_count": 4,
     "metadata": {},
     "output_type": "execute_result"
    }
   ],
   "source": [
    "df.shape"
   ]
  },
  {
   "cell_type": "code",
   "execution_count": 5,
   "id": "44c1c38c-8314-4698-91a0-d23d995383f4",
   "metadata": {},
   "outputs": [],
   "source": [
    "def clean_text(text):\n",
    "    '''Changes letters to lower case, and cleans punctuation characters and numbers.'''\n",
    "    text = text.str.lower()\n",
    "    text = text.str.replace(r'[^\\w\\s]', '')\n",
    "    text = text.str.replace(r'\\d+\\.\\d+', '', regex=True)\n",
    "    text = text.str.replace('\\n', '')\n",
    "    text = text.str.replace('\\d+', '')\n",
    "    return text"
   ]
  },
  {
   "cell_type": "code",
   "execution_count": 6,
   "id": "9323ce28-f067-473e-84f5-198457dabc9d",
   "metadata": {},
   "outputs": [],
   "source": [
    "df['text'] = clean_text(df['text'])"
   ]
  },
  {
   "cell_type": "code",
   "execution_count": 7,
   "id": "f78bd8eb-31f6-4575-b3ea-86b5827aa691",
   "metadata": {},
   "outputs": [
    {
     "data": {
      "text/plain": [
       "1    anovoanovo (formerly a novo) is a computer ser...\n",
       "2    battery indicatora battery indicator (also kno...\n",
       "3    bob peaserobert allen pease (august 22, 1940â ...\n",
       "4    cavnetcavnet was a secure military forum which...\n",
       "5    clidarthe clidar is a scientific instrument us...\n",
       "Name: text, dtype: object"
      ]
     },
     "execution_count": 7,
     "metadata": {},
     "output_type": "execute_result"
    }
   ],
   "source": [
    "df['text'].head()"
   ]
  },
  {
   "cell_type": "code",
   "execution_count": 8,
   "id": "6b4fcb61-107f-4808-980c-50e7ae27554f",
   "metadata": {},
   "outputs": [],
   "source": [
    "def remove_stopwords(text):\n",
    "    stop_words = stopwords.words('english')\n",
    "    text = text.apply(lambda x: ' '.join(x for x in str(x).split() if x not in stop_words))\n",
    "    return text"
   ]
  },
  {
   "cell_type": "code",
   "execution_count": 9,
   "id": "31f19173-2df0-44ba-9b0d-716634324cde",
   "metadata": {},
   "outputs": [],
   "source": [
    "df['text'] = remove_stopwords(df['text'])"
   ]
  },
  {
   "cell_type": "code",
   "execution_count": 10,
   "id": "2cce3d0f-a9ce-44db-9c3a-98f5ad30b76d",
   "metadata": {},
   "outputs": [],
   "source": [
    "# least frequent words\n",
    "\n",
    "to_delete = pd.Series(' '.join(df['text']).split()).value_counts()[-1000:]\n",
    "df['text'] = df['text'].apply(lambda x: ' '.join(x for x in x.split() if x not in to_delete))"
   ]
  },
  {
   "cell_type": "code",
   "execution_count": null,
   "id": "c35174eb-e3ee-41ea-8249-5f6e891cb4ba",
   "metadata": {},
   "outputs": [],
   "source": [
    "df['text'].apply(lambda x: TextBlob(x).words)"
   ]
  },
  {
   "cell_type": "code",
   "execution_count": null,
   "id": "e907dcea-c4d6-4c17-beaa-b36a7809f357",
   "metadata": {},
   "outputs": [],
   "source": [
    "df['text'] = df['text'].apply(lambda x: ' '.join([Word(word).lemmatize() for word in x.split()]))\n",
    "\n",
    "df.head()"
   ]
  },
  {
   "cell_type": "code",
   "execution_count": null,
   "id": "aa68378c-6644-4dfc-806e-13be91e3a05d",
   "metadata": {},
   "outputs": [],
   "source": [
    "tf = df['text'].apply(lambda x: pd.value_counts(x.split(' '))).sum(axis=0).reset_index()\n",
    "\n",
    "tf.head()"
   ]
  },
  {
   "cell_type": "code",
   "execution_count": null,
   "id": "2cdddf85-f25b-4d57-8c74-efc69b9b8a28",
   "metadata": {},
   "outputs": [],
   "source": [
    "tf.columns = ['words', 'tf']\n",
    "\n",
    "tf[tf['tf'] > 2000].plot.bar(x='words', y='tf')\n",
    "plt.show()"
   ]
  },
  {
   "cell_type": "code",
   "execution_count": null,
   "id": "4f71d2e7-bdc6-4443-906b-0aa8a71ef5c6",
   "metadata": {},
   "outputs": [],
   "source": [
    "text = ' '.join(word for word in df['text'])\n",
    "\n",
    "wordcloud = WordCloud(max_font_size=50, max_words=80, background_color='black').generate(text)\n",
    "plt.figure()\n",
    "plt.imshow(wordcloud, interpolation='bilinear')\n",
    "plt.axis('off')\n",
    "plt.show()"
   ]
  },
  {
   "cell_type": "code",
   "execution_count": null,
   "id": "a9359f67-4581-44e9-901a-67a4b471dcbf",
   "metadata": {},
   "outputs": [],
   "source": []
  }
 ],
 "metadata": {
  "kernelspec": {
   "display_name": "Python 3 (ipykernel)",
   "language": "python",
   "name": "python3"
  },
  "language_info": {
   "codemirror_mode": {
    "name": "ipython",
    "version": 3
   },
   "file_extension": ".py",
   "mimetype": "text/x-python",
   "name": "python",
   "nbconvert_exporter": "python",
   "pygments_lexer": "ipython3",
   "version": "3.11.5"
  }
 },
 "nbformat": 4,
 "nbformat_minor": 5
}
